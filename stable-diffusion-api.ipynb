{
 "cells": [
  {
   "cell_type": "code",
   "execution_count": 148,
   "metadata": {},
   "outputs": [],
   "source": [
    "import boto3\n",
    "import datetime\n",
    "import os\n",
    "import requests\n",
    "import json\n",
    "from PIL import Image\n",
    "from io import BytesIO\n",
    "import qrcode\n",
    "\n",
    "def generate_s3_filename(extension=\"png\"):\n",
    "    \"\"\"\n",
    "    Genera un nombre de archivo basado en el timestamp actual.\n",
    "    \n",
    "    Args:\n",
    "    - extension (str): extensión del archivo. Por defecto es \"jpg\".\n",
    "    \n",
    "    Returns:\n",
    "    - str: nombre del archivo generado.\n",
    "    \"\"\"\n",
    "    # Obtiene el timestamp actual y lo formatea\n",
    "    timestamp = datetime.datetime.now().strftime('%Y%m%d_%H%M%S')\n",
    "    filename = f\"{timestamp}.{extension}\"\n",
    "    return filename\n",
    "\n",
    "def load_api_key(json_file='stability-ai-api-key.json'):\n",
    "    # Abre y lee el archivo JSON\n",
    "    with open(json_file, 'r') as file:\n",
    "        data = json.load(file)\n",
    "\n",
    "    # Extrae el valor asociado a la llave \"key\"\n",
    "    return data.get(\"key\", None)\n",
    "\n",
    "def generate_image(api_key, input_prompt):\n",
    "    prompt = \"\"\n",
    "    # prompt = \"an aerial isometric view of a city, \"\n",
    "    prompt += input_prompt\n",
    "    response = requests.post('https://clipdrop-api.co/text-to-image/v1',\n",
    "        files = {\n",
    "            'prompt': (None, prompt, 'text/plain')\n",
    "        },\n",
    "        headers = {'x-api-key': api_key}\n",
    "    )\n",
    "    if response.status_code == 200:\n",
    "        return response\n",
    "    else:\n",
    "        return None"
   ]
  },
  {
   "cell_type": "code",
   "execution_count": 149,
   "metadata": {},
   "outputs": [],
   "source": [
    "api_key = load_api_key()\n",
    "prompt = \"Vista area isometrica de una ciudad con edificios y colores estilo Cyberpunk\"\n",
    "response = generate_image(api_key, input_prompt=prompt)"
   ]
  },
  {
   "cell_type": "code",
   "execution_count": 150,
   "metadata": {},
   "outputs": [],
   "source": [
    "gen_image = Image.open(BytesIO(response.content))\n",
    "\n",
    "# Convirtiendo la imagen a bytes para subirla a S3\n",
    "buffer = BytesIO()\n",
    "gen_image.save(buffer, 'png')\n",
    "buffer.seek(0)\n",
    "\n",
    "s3 = boto3.client('s3')\n",
    "bucket_name = 'stable-diffusion-city-images'\n",
    "s3_file_name = generate_s3_filename()"
   ]
  },
  {
   "cell_type": "code",
   "execution_count": 151,
   "metadata": {},
   "outputs": [
    {
     "data": {
      "text/plain": [
       "{'ResponseMetadata': {'RequestId': 'M5C2A226Z7E10JH5',\n",
       "  'HostId': 'd40kXUTn2Z2x2bV033RW+WdtiD2rwCjECKRPGl3WHtds5NZJEHO21S7T8qYcQ0O+PzvhcDjM2yk=',\n",
       "  'HTTPStatusCode': 200,\n",
       "  'HTTPHeaders': {'x-amz-id-2': 'd40kXUTn2Z2x2bV033RW+WdtiD2rwCjECKRPGl3WHtds5NZJEHO21S7T8qYcQ0O+PzvhcDjM2yk=',\n",
       "   'x-amz-request-id': 'M5C2A226Z7E10JH5',\n",
       "   'date': 'Thu, 02 Nov 2023 19:14:17 GMT',\n",
       "   'x-amz-server-side-encryption': 'AES256',\n",
       "   'etag': '\"c19e1cdbbebdee97e9a8fdb7b90192be\"',\n",
       "   'server': 'AmazonS3',\n",
       "   'content-length': '0'},\n",
       "  'RetryAttempts': 0},\n",
       " 'ETag': '\"c19e1cdbbebdee97e9a8fdb7b90192be\"',\n",
       " 'ServerSideEncryption': 'AES256'}"
      ]
     },
     "execution_count": 151,
     "metadata": {},
     "output_type": "execute_result"
    }
   ],
   "source": [
    "s3.put_object(Bucket=bucket_name, Key=s3_file_name, Body=buffer)"
   ]
  },
  {
   "cell_type": "code",
   "execution_count": 152,
   "metadata": {},
   "outputs": [],
   "source": [
    "image_url = s3.generate_presigned_url('get_object',\n",
    "                                Params={'Bucket': bucket_name, 'Key': s3_file_name},\n",
    "                                ExpiresIn=3600)  # URL válida por 1 hora"
   ]
  },
  {
   "cell_type": "code",
   "execution_count": 153,
   "metadata": {},
   "outputs": [],
   "source": [
    "# Genera el código QR con la URL\n",
    "qr = qrcode.QRCode(\n",
    "    version=1,\n",
    "    error_correction=qrcode.constants.ERROR_CORRECT_L,\n",
    "    box_size=10,\n",
    "    border=4,\n",
    ")\n",
    "qr.add_data(image_url)\n",
    "qr.make(fit=True)\n",
    "qr_img = qr.make_image(fill_color=\"black\", back_color=\"white\")\n",
    "\n",
    "# Dimensiones deseadas para el QR (por ejemplo, 100x100 píxeles)\n",
    "desired_size = (150, 150)\n",
    "\n",
    "# Redimensiona el código QR\n",
    "qr_img_resized = qr_img.resize(desired_size)\n",
    "\n",
    "# Calcula la posición para colocar el QR redimensionado en la esquina superior derecha\n",
    "margin = 10\n",
    "x_position = gen_image.width - qr_img_resized.width - margin\n",
    "y_position = margin\n",
    "\n",
    "image = gen_image.copy()\n",
    "\n",
    "# Superpone el QR redimensionado en la imagen\n",
    "image.paste(qr_img_resized, (x_position, y_position))\n",
    "\n",
    "# Muestra la imagen resultante\n",
    "image.show()\n"
   ]
  },
  {
   "cell_type": "code",
   "execution_count": null,
   "metadata": {},
   "outputs": [],
   "source": []
  },
  {
   "cell_type": "code",
   "execution_count": null,
   "metadata": {},
   "outputs": [],
   "source": []
  }
 ],
 "metadata": {
  "kernelspec": {
   "display_name": "env",
   "language": "python",
   "name": "python3"
  },
  "language_info": {
   "codemirror_mode": {
    "name": "ipython",
    "version": 3
   },
   "file_extension": ".py",
   "mimetype": "text/x-python",
   "name": "python",
   "nbconvert_exporter": "python",
   "pygments_lexer": "ipython3",
   "version": "3.10.0"
  }
 },
 "nbformat": 4,
 "nbformat_minor": 2
}
